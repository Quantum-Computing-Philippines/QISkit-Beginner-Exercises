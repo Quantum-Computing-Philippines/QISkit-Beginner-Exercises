{
  "nbformat": 4,
  "nbformat_minor": 0,
  "metadata": {
    "colab": {
      "provenance": [],
      "include_colab_link": true
    },
    "kernelspec": {
      "name": "python3",
      "display_name": "Python 3"
    },
    "language_info": {
      "name": "python"
    }
  },
  "cells": [
    {
      "cell_type": "markdown",
      "metadata": {
        "id": "view-in-github",
        "colab_type": "text"
      },
      "source": [
        "<a href=\"https://colab.research.google.com/github/Quantum-Computing-Philippines/QISkit-Beginner-Exercises/blob/main/WorldQuantumDay-April-14-2023.ipynb\" target=\"_parent\"><img src=\"https://colab.research.google.com/assets/colab-badge.svg\" alt=\"Open In Colab\"/></a>"
      ]
    },
    {
      "cell_type": "markdown",
      "source": [
        "\n",
        "\n",
        "### Quantum Logic Gates\n",
        "\n",
        "A Quantum Logic Gate are the building blocks of Quantum Circuits, like classical logic gates are for conventional digital circuits\n",
        "\n",
        "\n",
        "|Name|Functions|Examples|\n",
        "|--|--|--|\n",
        "|X (NOT Gate)|x()|qc.x(0)\n",
        "|Hadamard|h()|qc.h(2)\n",
        "|CX Gate (CNOT Gate)|cx()|qc.cx(q[0],q[1])\n",
        "|CCX Gate (CNOT Gate)|ccx()|qc.ccx(q[0],q[1],q[2])\n",
        "\n",
        "\n",
        "\n",
        "\n"
      ],
      "metadata": {
        "id": "5qNxQyAfH9fS"
      }
    },
    {
      "cell_type": "markdown",
      "source": [
        "#Exercise 0\n",
        "\n",
        "Run the code below to install the required libraries. To do this, click on the triangular **\"run\"** button as shown below:\n",
        "\n",
        "<img src=\"https://github.com/Quantum-Computing-Philippines/QISkit-Beginner-Exercises/blob/bobby/images/colab_run.png?raw=1\">\n",
        "\n",
        "After running, if you want to clear the output, you can click on the 3 dots at the rightmost corner of the cell to show further options.\n",
        "\n",
        "<img src=\"https://github.com/Quantum-Computing-Philippines/QISkit-Beginner-Exercises/blob/bobby/images/colab_3dots.png?raw=1\">\n",
        "\n",
        "The click on **Clear output**.\n",
        "\n",
        "<img src=\"https://github.com/Quantum-Computing-Philippines/QISkit-Beginner-Exercises/blob/bobby/images/colab_clear_output.png?raw=1\">"
      ],
      "metadata": {
        "id": "IVulPuiRUyZZ"
      }
    },
    {
      "cell_type": "code",
      "execution_count": null,
      "metadata": {
        "id": "8nmqSfX3oohJ",
        "outputId": "886f0ae2-7140-4bcc-8c6b-238c73139918",
        "colab": {
          "base_uri": "https://localhost:8080/"
        }
      },
      "outputs": [
        {
          "output_type": "stream",
          "name": "stdout",
          "text": [
            "Looking in indexes: https://pypi.org/simple, https://us-python.pkg.dev/colab-wheels/public/simple/\n",
            "Requirement already satisfied: ipywidgets in /usr/local/lib/python3.9/dist-packages (7.7.1)\n",
            "Collecting pylatexenc\n",
            "  Downloading pylatexenc-2.10.tar.gz (162 kB)\n",
            "\u001b[2K     \u001b[90m━━━━━━━━━━━━━━━━━━━━━━━━━━━━━━━━━━━━━━━\u001b[0m \u001b[32m162.6/162.6 kB\u001b[0m \u001b[31m3.9 MB/s\u001b[0m eta \u001b[36m0:00:00\u001b[0m\n",
            "\u001b[?25h  Preparing metadata (setup.py) ... \u001b[?25l\u001b[?25hdone\n",
            "Collecting qiskit==0.16.1\n",
            "  Downloading qiskit-0.16.1.tar.gz (3.9 kB)\n",
            "  Preparing metadata (setup.py) ... \u001b[?25l\u001b[?25hdone\n",
            "Collecting qiskit-terra==0.12.0\n",
            "  Downloading qiskit-terra-0.12.0.tar.gz (2.4 MB)\n",
            "\u001b[2K     \u001b[90m━━━━━━━━━━━━━━━━━━━━━━━━━━━━━━━━━━━━━━━━\u001b[0m \u001b[32m2.4/2.4 MB\u001b[0m \u001b[31m11.9 MB/s\u001b[0m eta \u001b[36m0:00:00\u001b[0m\n",
            "\u001b[?25h  Preparing metadata (setup.py) ... \u001b[?25l\u001b[?25hdone\n",
            "Collecting qiskit-aer==0.4.1\n",
            "  Downloading qiskit-aer-0.4.1.tar.gz (10.0 MB)\n",
            "\u001b[2K     \u001b[90m━━━━━━━━━━━━━━━━━━━━━━━━━━━━━━━━━━━━━━━━\u001b[0m \u001b[32m10.0/10.0 MB\u001b[0m \u001b[31m8.5 MB/s\u001b[0m eta \u001b[36m0:00:00\u001b[0m\n",
            "\u001b[?25h  Preparing metadata (setup.py) ... \u001b[?25l\u001b[?25hdone\n",
            "Collecting qiskit-ibmq-provider==0.5.0\n",
            "  Downloading qiskit_ibmq_provider-0.5.0-py3-none-any.whl (140 kB)\n",
            "\u001b[2K     \u001b[90m━━━━━━━━━━━━━━━━━━━━━━━━━━━━━━━━━━━━━━\u001b[0m \u001b[32m140.8/140.8 kB\u001b[0m \u001b[31m13.5 MB/s\u001b[0m eta \u001b[36m0:00:00\u001b[0m\n",
            "\u001b[?25hCollecting qiskit-ignis==0.2.0\n",
            "  Downloading qiskit_ignis-0.2.0-py3-none-any.whl (100 kB)\n",
            "\u001b[2K     \u001b[90m━━━━━━━━━━━━━━━━━━━━━━━━━━━━━━━━━━━━━━━\u001b[0m \u001b[32m100.2/100.2 kB\u001b[0m \u001b[31m5.9 MB/s\u001b[0m eta \u001b[36m0:00:00\u001b[0m\n",
            "\u001b[?25hCollecting qiskit-aqua==0.6.4\n",
            "  Downloading qiskit_aqua-0.6.4-py3-none-any.whl (1.8 MB)\n",
            "\u001b[2K     \u001b[90m━━━━━━━━━━━━━━━━━━━━━━━━━━━━━━━━━━━━━━━━\u001b[0m \u001b[32m1.8/1.8 MB\u001b[0m \u001b[31m22.1 MB/s\u001b[0m eta \u001b[36m0:00:00\u001b[0m\n",
            "\u001b[?25hRequirement already satisfied: numpy>=1.16.3 in /usr/local/lib/python3.9/dist-packages (from qiskit-aer==0.4.1->qiskit==0.16.1) (1.22.4)\n",
            "Requirement already satisfied: scipy>=1.0 in /usr/local/lib/python3.9/dist-packages (from qiskit-aer==0.4.1->qiskit==0.16.1) (1.10.1)\n",
            "Requirement already satisfied: cython>=0.27.1 in /usr/local/lib/python3.9/dist-packages (from qiskit-aer==0.4.1->qiskit==0.16.1) (0.29.34)\n",
            "Collecting pybind11>=2.4\n",
            "  Using cached pybind11-2.10.4-py3-none-any.whl (222 kB)\n",
            "Requirement already satisfied: sympy>=1.3 in /usr/local/lib/python3.9/dist-packages (from qiskit-aqua==0.6.4->qiskit==0.16.1) (1.11.1)\n",
            "Requirement already satisfied: jsonschema>=2.6 in /usr/local/lib/python3.9/dist-packages (from qiskit-aqua==0.6.4->qiskit==0.16.1) (4.3.3)\n",
            "Requirement already satisfied: h5py in /usr/local/lib/python3.9/dist-packages (from qiskit-aqua==0.6.4->qiskit==0.16.1) (3.8.0)\n",
            "Collecting fastdtw\n",
            "  Downloading fastdtw-0.3.4.tar.gz (133 kB)\n",
            "\u001b[2K     \u001b[90m━━━━━━━━━━━━━━━━━━━━━━━━━━━━━━━━━━━━━━\u001b[0m \u001b[32m133.4/133.4 kB\u001b[0m \u001b[31m11.0 MB/s\u001b[0m eta \u001b[36m0:00:00\u001b[0m\n",
            "\u001b[?25h  Preparing metadata (setup.py) ... \u001b[?25l\u001b[?25hdone\n",
            "Requirement already satisfied: setuptools>=40.1.0 in /usr/local/lib/python3.9/dist-packages (from qiskit-aqua==0.6.4->qiskit==0.16.1) (67.6.1)\n",
            "Collecting docplex\n",
            "  Downloading docplex-2.25.236.tar.gz (633 kB)\n",
            "\u001b[2K     \u001b[90m━━━━━━━━━━━━━━━━━━━━━━━━━━━━━━━━━━━━━━\u001b[0m \u001b[32m633.5/633.5 kB\u001b[0m \u001b[31m44.9 MB/s\u001b[0m eta \u001b[36m0:00:00\u001b[0m\n",
            "\u001b[?25h  Preparing metadata (setup.py) ... \u001b[?25l\u001b[?25hdone\n",
            "Collecting quandl\n",
            "  Downloading Quandl-3.7.0-py2.py3-none-any.whl (26 kB)\n",
            "Requirement already satisfied: networkx>=2.2 in /usr/local/lib/python3.9/dist-packages (from qiskit-aqua==0.6.4->qiskit==0.16.1) (3.1)\n",
            "Collecting pyscf\n",
            "  Downloading pyscf-2.2.1-cp39-cp39-manylinux_2_17_x86_64.manylinux2014_x86_64.whl (47.7 MB)\n",
            "\u001b[2K     \u001b[90m━━━━━━━━━━━━━━━━━━━━━━━━━━━━━━━━━━━━━━━━\u001b[0m \u001b[32m47.7/47.7 MB\u001b[0m \u001b[31m12.3 MB/s\u001b[0m eta \u001b[36m0:00:00\u001b[0m\n",
            "\u001b[?25hRequirement already satisfied: psutil>=5 in /usr/local/lib/python3.9/dist-packages (from qiskit-aqua==0.6.4->qiskit==0.16.1) (5.9.4)\n",
            "Requirement already satisfied: cvxopt in /usr/local/lib/python3.9/dist-packages (from qiskit-aqua==0.6.4->qiskit==0.16.1) (1.3.0)\n",
            "Requirement already satisfied: scikit-learn>=0.20.0 in /usr/local/lib/python3.9/dist-packages (from qiskit-aqua==0.6.4->qiskit==0.16.1) (1.2.2)\n",
            "Collecting dlx\n",
            "  Downloading dlx-1.0.4.tar.gz (5.5 kB)\n",
            "  Preparing metadata (setup.py) ... \u001b[?25l\u001b[?25hdone\n",
            "Collecting requests-ntlm>=1.1.0\n",
            "  Downloading requests_ntlm-1.2.0-py3-none-any.whl (6.0 kB)\n",
            "Collecting arrow>=0.15.5\n",
            "  Downloading arrow-1.2.3-py3-none-any.whl (66 kB)\n",
            "\u001b[2K     \u001b[90m━━━━━━━━━━━━━━━━━━━━━━━━━━━━━━━━━━━━━━━━\u001b[0m \u001b[32m66.4/66.4 kB\u001b[0m \u001b[31m8.2 MB/s\u001b[0m eta \u001b[36m0:00:00\u001b[0m\n",
            "\u001b[?25hRequirement already satisfied: nest-asyncio!=1.1.0,>=1.0.0 in /usr/local/lib/python3.9/dist-packages (from qiskit-ibmq-provider==0.5.0->qiskit==0.16.1) (1.5.6)\n",
            "Requirement already satisfied: requests>=2.19 in /usr/local/lib/python3.9/dist-packages (from qiskit-ibmq-provider==0.5.0->qiskit==0.16.1) (2.27.1)\n",
            "Collecting websockets<8,>=7\n",
            "  Downloading websockets-7.0.tar.gz (49 kB)\n",
            "\u001b[2K     \u001b[90m━━━━━━━━━━━━━━━━━━━━━━━━━━━━━━━━━━━━━━━━\u001b[0m \u001b[32m49.3/49.3 kB\u001b[0m \u001b[31m5.5 MB/s\u001b[0m eta \u001b[36m0:00:00\u001b[0m\n",
            "\u001b[?25h  Preparing metadata (setup.py) ... \u001b[?25l\u001b[?25hdone\n",
            "Collecting marshmallow<4,>=3\n",
            "  Downloading marshmallow-3.19.0-py3-none-any.whl (49 kB)\n",
            "\u001b[2K     \u001b[90m━━━━━━━━━━━━━━━━━━━━━━━━━━━━━━━━━━━━━━━━\u001b[0m \u001b[32m49.1/49.1 kB\u001b[0m \u001b[31m5.0 MB/s\u001b[0m eta \u001b[36m0:00:00\u001b[0m\n",
            "\u001b[?25hCollecting marshmallow_polyfield<6,>=5.7\n",
            "  Downloading marshmallow-polyfield-5.11.tar.gz (8.6 kB)\n",
            "  Preparing metadata (setup.py) ... \u001b[?25l\u001b[?25hdone\n",
            "Collecting ply>=3.10\n",
            "  Using cached ply-3.11-py2.py3-none-any.whl (49 kB)\n",
            "Collecting dill>=0.3\n",
            "  Using cached dill-0.3.6-py3-none-any.whl (110 kB)\n",
            "Requirement already satisfied: traitlets>=4.3.1 in /usr/local/lib/python3.9/dist-packages (from ipywidgets) (5.7.1)\n",
            "Requirement already satisfied: ipykernel>=4.5.1 in /usr/local/lib/python3.9/dist-packages (from ipywidgets) (5.5.6)\n",
            "Requirement already satisfied: ipython-genutils~=0.2.0 in /usr/local/lib/python3.9/dist-packages (from ipywidgets) (0.2.0)\n",
            "Requirement already satisfied: jupyterlab-widgets>=1.0.0 in /usr/local/lib/python3.9/dist-packages (from ipywidgets) (3.0.7)\n",
            "Requirement already satisfied: widgetsnbextension~=3.6.0 in /usr/local/lib/python3.9/dist-packages (from ipywidgets) (3.6.4)\n",
            "Requirement already satisfied: ipython>=4.0.0 in /usr/local/lib/python3.9/dist-packages (from ipywidgets) (7.34.0)\n",
            "Requirement already satisfied: jupyter-client in /usr/local/lib/python3.9/dist-packages (from ipykernel>=4.5.1->ipywidgets) (6.1.12)\n",
            "Requirement already satisfied: tornado>=4.2 in /usr/local/lib/python3.9/dist-packages (from ipykernel>=4.5.1->ipywidgets) (6.2)\n",
            "Requirement already satisfied: pygments in /usr/local/lib/python3.9/dist-packages (from ipython>=4.0.0->ipywidgets) (2.14.0)\n",
            "Requirement already satisfied: prompt-toolkit!=3.0.0,!=3.0.1,<3.1.0,>=2.0.0 in /usr/local/lib/python3.9/dist-packages (from ipython>=4.0.0->ipywidgets) (3.0.38)\n",
            "Collecting jedi>=0.16\n",
            "  Downloading jedi-0.18.2-py2.py3-none-any.whl (1.6 MB)\n",
            "\u001b[2K     \u001b[90m━━━━━━━━━━━━━━━━━━━━━━━━━━━━━━━━━━━━━━━━\u001b[0m \u001b[32m1.6/1.6 MB\u001b[0m \u001b[31m63.3 MB/s\u001b[0m eta \u001b[36m0:00:00\u001b[0m\n",
            "\u001b[?25hRequirement already satisfied: pexpect>4.3 in /usr/local/lib/python3.9/dist-packages (from ipython>=4.0.0->ipywidgets) (4.8.0)\n",
            "Requirement already satisfied: pickleshare in /usr/local/lib/python3.9/dist-packages (from ipython>=4.0.0->ipywidgets) (0.7.5)\n",
            "Requirement already satisfied: backcall in /usr/local/lib/python3.9/dist-packages (from ipython>=4.0.0->ipywidgets) (0.2.0)\n",
            "Requirement already satisfied: matplotlib-inline in /usr/local/lib/python3.9/dist-packages (from ipython>=4.0.0->ipywidgets) (0.1.6)\n",
            "Requirement already satisfied: decorator in /usr/local/lib/python3.9/dist-packages (from ipython>=4.0.0->ipywidgets) (4.4.2)\n",
            "Requirement already satisfied: notebook>=4.4.1 in /usr/local/lib/python3.9/dist-packages (from widgetsnbextension~=3.6.0->ipywidgets) (6.4.8)\n",
            "Requirement already satisfied: python-dateutil>=2.7.0 in /usr/local/lib/python3.9/dist-packages (from arrow>=0.15.5->qiskit-ibmq-provider==0.5.0->qiskit==0.16.1) (2.8.2)\n",
            "Requirement already satisfied: parso<0.9.0,>=0.8.0 in /usr/local/lib/python3.9/dist-packages (from jedi>=0.16->ipython>=4.0.0->ipywidgets) (0.8.3)\n",
            "Requirement already satisfied: attrs>=17.4.0 in /usr/local/lib/python3.9/dist-packages (from jsonschema>=2.6->qiskit-aqua==0.6.4->qiskit==0.16.1) (22.2.0)\n",
            "Requirement already satisfied: pyrsistent!=0.17.0,!=0.17.1,!=0.17.2,>=0.14.0 in /usr/local/lib/python3.9/dist-packages (from jsonschema>=2.6->qiskit-aqua==0.6.4->qiskit==0.16.1) (0.19.3)\n",
            "Requirement already satisfied: packaging>=17.0 in /usr/local/lib/python3.9/dist-packages (from marshmallow<4,>=3->qiskit-terra==0.12.0->qiskit==0.16.1) (23.0)\n",
            "Requirement already satisfied: prometheus-client in /usr/local/lib/python3.9/dist-packages (from notebook>=4.4.1->widgetsnbextension~=3.6.0->ipywidgets) (0.16.0)\n",
            "Requirement already satisfied: argon2-cffi in /usr/local/lib/python3.9/dist-packages (from notebook>=4.4.1->widgetsnbextension~=3.6.0->ipywidgets) (21.3.0)\n",
            "Requirement already satisfied: nbconvert in /usr/local/lib/python3.9/dist-packages (from notebook>=4.4.1->widgetsnbextension~=3.6.0->ipywidgets) (6.5.4)\n",
            "Requirement already satisfied: Send2Trash>=1.8.0 in /usr/local/lib/python3.9/dist-packages (from notebook>=4.4.1->widgetsnbextension~=3.6.0->ipywidgets) (1.8.0)\n",
            "Requirement already satisfied: pyzmq>=17 in /usr/local/lib/python3.9/dist-packages (from notebook>=4.4.1->widgetsnbextension~=3.6.0->ipywidgets) (23.2.1)\n",
            "Requirement already satisfied: nbformat in /usr/local/lib/python3.9/dist-packages (from notebook>=4.4.1->widgetsnbextension~=3.6.0->ipywidgets) (5.8.0)\n",
            "Requirement already satisfied: jinja2 in /usr/local/lib/python3.9/dist-packages (from notebook>=4.4.1->widgetsnbextension~=3.6.0->ipywidgets) (3.1.2)\n",
            "Requirement already satisfied: terminado>=0.8.3 in /usr/local/lib/python3.9/dist-packages (from notebook>=4.4.1->widgetsnbextension~=3.6.0->ipywidgets) (0.17.1)\n",
            "Requirement already satisfied: jupyter-core>=4.6.1 in /usr/local/lib/python3.9/dist-packages (from notebook>=4.4.1->widgetsnbextension~=3.6.0->ipywidgets) (5.3.0)\n",
            "Requirement already satisfied: ptyprocess>=0.5 in /usr/local/lib/python3.9/dist-packages (from pexpect>4.3->ipython>=4.0.0->ipywidgets) (0.7.0)\n",
            "Requirement already satisfied: wcwidth in /usr/local/lib/python3.9/dist-packages (from prompt-toolkit!=3.0.0,!=3.0.1,<3.1.0,>=2.0.0->ipython>=4.0.0->ipywidgets) (0.2.6)\n",
            "Requirement already satisfied: idna<4,>=2.5 in /usr/local/lib/python3.9/dist-packages (from requests>=2.19->qiskit-ibmq-provider==0.5.0->qiskit==0.16.1) (3.4)\n",
            "Requirement already satisfied: urllib3<1.27,>=1.21.1 in /usr/local/lib/python3.9/dist-packages (from requests>=2.19->qiskit-ibmq-provider==0.5.0->qiskit==0.16.1) (1.26.15)\n",
            "Requirement already satisfied: certifi>=2017.4.17 in /usr/local/lib/python3.9/dist-packages (from requests>=2.19->qiskit-ibmq-provider==0.5.0->qiskit==0.16.1) (2022.12.7)\n",
            "Requirement already satisfied: charset-normalizer~=2.0.0 in /usr/local/lib/python3.9/dist-packages (from requests>=2.19->qiskit-ibmq-provider==0.5.0->qiskit==0.16.1) (2.0.12)\n",
            "Collecting pyspnego>=0.1.6\n",
            "  Downloading pyspnego-0.8.0-py3-none-any.whl (130 kB)\n",
            "\u001b[2K     \u001b[90m━━━━━━━━━━━━━━━━━━━━━━━━━━━━━━━━━━━━━━\u001b[0m \u001b[32m130.7/130.7 kB\u001b[0m \u001b[31m15.1 MB/s\u001b[0m eta \u001b[36m0:00:00\u001b[0m\n",
            "\u001b[?25hRequirement already satisfied: cryptography>=1.3 in /usr/local/lib/python3.9/dist-packages (from requests-ntlm>=1.1.0->qiskit-ibmq-provider==0.5.0->qiskit==0.16.1) (40.0.1)\n",
            "Requirement already satisfied: joblib>=1.1.1 in /usr/local/lib/python3.9/dist-packages (from scikit-learn>=0.20.0->qiskit-aqua==0.6.4->qiskit==0.16.1) (1.2.0)\n",
            "Requirement already satisfied: threadpoolctl>=2.0.0 in /usr/local/lib/python3.9/dist-packages (from scikit-learn>=0.20.0->qiskit-aqua==0.6.4->qiskit==0.16.1) (3.1.0)\n",
            "Requirement already satisfied: mpmath>=0.19 in /usr/local/lib/python3.9/dist-packages (from sympy>=1.3->qiskit-aqua==0.6.4->qiskit==0.16.1) (1.3.0)\n",
            "Requirement already satisfied: six in /usr/local/lib/python3.9/dist-packages (from docplex->qiskit-aqua==0.6.4->qiskit==0.16.1) (1.16.0)\n",
            "Requirement already satisfied: more-itertools in /usr/local/lib/python3.9/dist-packages (from quandl->qiskit-aqua==0.6.4->qiskit==0.16.1) (9.1.0)\n",
            "Collecting inflection>=0.3.1\n",
            "  Downloading inflection-0.5.1-py2.py3-none-any.whl (9.5 kB)\n",
            "Requirement already satisfied: pandas>=0.14 in /usr/local/lib/python3.9/dist-packages (from quandl->qiskit-aqua==0.6.4->qiskit==0.16.1) (1.5.3)\n",
            "Requirement already satisfied: cffi>=1.12 in /usr/local/lib/python3.9/dist-packages (from cryptography>=1.3->requests-ntlm>=1.1.0->qiskit-ibmq-provider==0.5.0->qiskit==0.16.1) (1.15.1)\n",
            "Requirement already satisfied: platformdirs>=2.5 in /usr/local/lib/python3.9/dist-packages (from jupyter-core>=4.6.1->notebook>=4.4.1->widgetsnbextension~=3.6.0->ipywidgets) (3.2.0)\n",
            "Requirement already satisfied: pytz>=2020.1 in /usr/local/lib/python3.9/dist-packages (from pandas>=0.14->quandl->qiskit-aqua==0.6.4->qiskit==0.16.1) (2022.7.1)\n",
            "Requirement already satisfied: argon2-cffi-bindings in /usr/local/lib/python3.9/dist-packages (from argon2-cffi->notebook>=4.4.1->widgetsnbextension~=3.6.0->ipywidgets) (21.2.0)\n",
            "Requirement already satisfied: MarkupSafe>=2.0 in /usr/local/lib/python3.9/dist-packages (from jinja2->notebook>=4.4.1->widgetsnbextension~=3.6.0->ipywidgets) (2.1.2)\n",
            "Requirement already satisfied: jupyterlab-pygments in /usr/local/lib/python3.9/dist-packages (from nbconvert->notebook>=4.4.1->widgetsnbextension~=3.6.0->ipywidgets) (0.2.2)\n",
            "Requirement already satisfied: defusedxml in /usr/local/lib/python3.9/dist-packages (from nbconvert->notebook>=4.4.1->widgetsnbextension~=3.6.0->ipywidgets) (0.7.1)\n",
            "Requirement already satisfied: nbclient>=0.5.0 in /usr/local/lib/python3.9/dist-packages (from nbconvert->notebook>=4.4.1->widgetsnbextension~=3.6.0->ipywidgets) (0.7.3)\n",
            "Requirement already satisfied: pandocfilters>=1.4.1 in /usr/local/lib/python3.9/dist-packages (from nbconvert->notebook>=4.4.1->widgetsnbextension~=3.6.0->ipywidgets) (1.5.0)\n",
            "Requirement already satisfied: lxml in /usr/local/lib/python3.9/dist-packages (from nbconvert->notebook>=4.4.1->widgetsnbextension~=3.6.0->ipywidgets) (4.9.2)\n",
            "Requirement already satisfied: entrypoints>=0.2.2 in /usr/local/lib/python3.9/dist-packages (from nbconvert->notebook>=4.4.1->widgetsnbextension~=3.6.0->ipywidgets) (0.4)\n",
            "Requirement already satisfied: beautifulsoup4 in /usr/local/lib/python3.9/dist-packages (from nbconvert->notebook>=4.4.1->widgetsnbextension~=3.6.0->ipywidgets) (4.11.2)\n",
            "Requirement already satisfied: mistune<2,>=0.8.1 in /usr/local/lib/python3.9/dist-packages (from nbconvert->notebook>=4.4.1->widgetsnbextension~=3.6.0->ipywidgets) (0.8.4)\n",
            "Requirement already satisfied: bleach in /usr/local/lib/python3.9/dist-packages (from nbconvert->notebook>=4.4.1->widgetsnbextension~=3.6.0->ipywidgets) (6.0.0)\n",
            "Requirement already satisfied: tinycss2 in /usr/local/lib/python3.9/dist-packages (from nbconvert->notebook>=4.4.1->widgetsnbextension~=3.6.0->ipywidgets) (1.2.1)\n",
            "Requirement already satisfied: fastjsonschema in /usr/local/lib/python3.9/dist-packages (from nbformat->notebook>=4.4.1->widgetsnbextension~=3.6.0->ipywidgets) (2.16.3)\n",
            "Requirement already satisfied: pycparser in /usr/local/lib/python3.9/dist-packages (from cffi>=1.12->cryptography>=1.3->requests-ntlm>=1.1.0->qiskit-ibmq-provider==0.5.0->qiskit==0.16.1) (2.21)\n",
            "Requirement already satisfied: soupsieve>1.2 in /usr/local/lib/python3.9/dist-packages (from beautifulsoup4->nbconvert->notebook>=4.4.1->widgetsnbextension~=3.6.0->ipywidgets) (2.4)\n",
            "Requirement already satisfied: webencodings in /usr/local/lib/python3.9/dist-packages (from bleach->nbconvert->notebook>=4.4.1->widgetsnbextension~=3.6.0->ipywidgets) (0.5.1)\n",
            "Building wheels for collected packages: qiskit, qiskit-aer, qiskit-terra, pylatexenc, marshmallow_polyfield, websockets, dlx, docplex, fastdtw\n",
            "  Building wheel for qiskit (setup.py) ... \u001b[?25l\u001b[?25hdone\n",
            "  Created wheel for qiskit: filename=qiskit-0.16.1-py3-none-any.whl size=2895 sha256=a2fe66b547d3e70119a799de1446c2d48a54201281882053b07bd47fb829cf50\n",
            "  Stored in directory: /root/.cache/pip/wheels/6d/7b/e7/346dced7e5efb9bdf5688bdd3ed2552c9a07886614ede63253\n",
            "  Building wheel for qiskit-aer (setup.py) ... \u001b[?25l\u001b[?25hdone\n",
            "  Created wheel for qiskit-aer: filename=qiskit_aer-0.4.1-cp39-cp39-linux_x86_64.whl size=13604602 sha256=c0c83c91710494e80a7e2919e50f0bc37cde3b25607b953f9792bcc8cc07d271\n",
            "  Stored in directory: /root/.cache/pip/wheels/dc/6d/b9/918da533a030783f4d87e2c880806c7d0c5ebcd6173e3068e8\n",
            "  Building wheel for qiskit-terra (setup.py) ... \u001b[?25l\u001b[?25hdone\n",
            "  Created wheel for qiskit-terra: filename=qiskit_terra-0.12.0-cp39-cp39-linux_x86_64.whl size=3007288 sha256=94db3697b9a7d2192600b88a6cf1bef5aa231625740d42b16d82701a37af8cf4\n",
            "  Stored in directory: /root/.cache/pip/wheels/69/2a/78/23cfa72ecbf503827a28b0bcb3c69f3dad1ae2676c014f9c4e\n",
            "  Building wheel for pylatexenc (setup.py) ... \u001b[?25l\u001b[?25hdone\n",
            "  Created wheel for pylatexenc: filename=pylatexenc-2.10-py3-none-any.whl size=136831 sha256=ef649396514bf46b8c1275ef94de37c3ae7b5871376e4d9b191496f5facf256c\n",
            "  Stored in directory: /root/.cache/pip/wheels/a3/68/66/2f15abd0673d83c02f354115feedeb89c3daed2ac319b11090\n",
            "  Building wheel for marshmallow_polyfield (setup.py) ... \u001b[?25l\u001b[?25hdone\n",
            "  Created wheel for marshmallow_polyfield: filename=marshmallow_polyfield-5.11-py3-none-any.whl size=8644 sha256=962580eab73ae775f944d745258fc0e860d237b887c6075c2753dec81076c43d\n",
            "  Stored in directory: /root/.cache/pip/wheels/1e/07/24/4bc76b5469efadb2a993a2a12c6ac6cef6ab98429591cddc37\n",
            "  Building wheel for websockets (setup.py) ... \u001b[?25l\u001b[?25hdone\n",
            "  Created wheel for websockets: filename=websockets-7.0-cp39-cp39-linux_x86_64.whl size=68885 sha256=b795b538be92ab05705ab94ca3edd743fb7a5166a526c352c18f44721c5fb052\n",
            "  Stored in directory: /root/.cache/pip/wheels/05/65/39/a2dbf62d6f8e74968da3bbd93073de24a596372fbdd8ab81b8\n",
            "  Building wheel for dlx (setup.py) ... \u001b[?25l\u001b[?25hdone\n",
            "  Created wheel for dlx: filename=dlx-1.0.4-py3-none-any.whl size=5719 sha256=67147f4b9d4c8dc2d9f50f7c0f6012772de72acb56acf168d512e52958a9bae2\n",
            "  Stored in directory: /root/.cache/pip/wheels/81/bd/ba/2896ffc1856e28914fcbf4d0ded1bfbb5924dad98c80ba2d5c\n",
            "  Building wheel for docplex (setup.py) ... \u001b[?25l\u001b[?25hdone\n",
            "  Created wheel for docplex: filename=docplex-2.25.236-py3-none-any.whl size=671365 sha256=12a5eef964a3085f49c92252c5223f6d5b3e39f366d276ae51acb89ccaafa1ac\n",
            "  Stored in directory: /root/.cache/pip/wheels/02/32/20/7f3f85d090da2c3b1ec41de83f17f426a05acc5d9f5e8a1c9f\n",
            "  Building wheel for fastdtw (setup.py) ... \u001b[?25l\u001b[?25hdone\n",
            "  Created wheel for fastdtw: filename=fastdtw-0.3.4-cp39-cp39-linux_x86_64.whl size=534342 sha256=2bea458b123ca2b9cf8dbd64ed0b5c734e4f2c506f2e1093e0802f272b1fd05f\n",
            "  Stored in directory: /root/.cache/pip/wheels/1f/a1/63/bfd0fddb5bf0b59f564872e29272cee8a2de0cd745d88fede5\n",
            "Successfully built qiskit qiskit-aer qiskit-terra pylatexenc marshmallow_polyfield websockets dlx docplex fastdtw\n",
            "Installing collected packages: pylatexenc, ply, dlx, websockets, pybind11, marshmallow, jedi, inflection, fastdtw, docplex, dill, pyscf, marshmallow_polyfield, arrow, quandl, qiskit-terra, pyspnego, requests-ntlm, qiskit-ignis, qiskit-aer, qiskit-ibmq-provider, qiskit-aqua, qiskit\n",
            "Successfully installed arrow-1.2.3 dill-0.3.6 dlx-1.0.4 docplex-2.25.236 fastdtw-0.3.4 inflection-0.5.1 jedi-0.18.2 marshmallow-3.19.0 marshmallow_polyfield-5.11 ply-3.11 pybind11-2.10.4 pylatexenc-2.10 pyscf-2.2.1 pyspnego-0.8.0 qiskit-0.16.1 qiskit-aer-0.4.1 qiskit-aqua-0.6.4 qiskit-ibmq-provider-0.5.0 qiskit-ignis-0.2.0 qiskit-terra-0.12.0 quandl-3.7.0 requests-ntlm-1.2.0 websockets-7.0\n"
          ]
        }
      ],
      "source": [
        "!pip install ipywidgets pylatexenc qiskit==0.16.1\n",
        "import warnings\n",
        "warnings.filterwarnings(\"ignore\")\n"
      ]
    },
    {
      "cell_type": "code",
      "source": [],
      "metadata": {
        "id": "ZJMKDfdnCh19"
      },
      "execution_count": null,
      "outputs": []
    },
    {
      "cell_type": "markdown",
      "source": [
        "#Exercise 1: Basic Circuit\n",
        "\n",
        "1. Copy/Paste the code below. \n",
        "2. Run the code to show the circuit and Simulate\n",
        "3. Show the results\n",
        "\n",
        "```python\n",
        "# Import the Qiskit SDK\n",
        "from qiskit import QuantumCircuit, ClassicalRegister, QuantumRegister\n",
        "from qiskit import execute, Aer\n",
        "\n",
        "# Create the input Quantum Register with 1 qubits.\n",
        "qin = QuantumRegister(1)\n",
        "\n",
        "# Create a Classical Register with 1 bits that will hold the result of the measurement\n",
        "c = ClassicalRegister(1)\n",
        "\n",
        "# Create the Quantum Circuit\n",
        "qc = QuantumCircuit(qin,c)\n",
        "\n",
        "qc.barrier()  \n",
        "\n",
        "\n",
        "# Measure and draw\n",
        "qc.measure(qin,c)\n",
        "qc.draw(output='mpl')\n",
        "```"
      ],
      "metadata": {
        "id": "SxmxCGbDCLOy"
      }
    },
    {
      "cell_type": "code",
      "source": [
        "#Answer here"
      ],
      "metadata": {
        "id": "r9A-DwFLERR8"
      },
      "execution_count": null,
      "outputs": []
    },
    {
      "cell_type": "markdown",
      "source": [
        "#Exercise 1a Simulation Code\n",
        "\n",
        "Add the following code to simulate the circuit:\n",
        "\n",
        "```python\n",
        "def simulate(qc=qc):\n",
        "  from qiskit.tools.visualization import plot_histogram\n",
        "  backend_sim = Aer.get_backend('qasm_simulator')\n",
        "  shots = 1000\n",
        "\n",
        "  job_sim = execute(qc, backend=backend_sim, shots=shots)\n",
        "  result_sim = job_sim.result()\n",
        "  answer = result_sim.get_counts()\n",
        "  return plot_histogram(answer)\n",
        "```"
      ],
      "metadata": {
        "id": "jjdoj0tC_MxA"
      }
    },
    {
      "cell_type": "code",
      "source": [
        "# Copy here\n",
        "def simulate(qc=qc):\n",
        "  from qiskit.tools.visualization import plot_histogram\n",
        "  backend_sim = Aer.get_backend('qasm_simulator')\n",
        "  shots = 1000\n",
        "\n",
        "  job_sim = execute(qc, backend=backend_sim, shots=shots)\n",
        "  result_sim = job_sim.result()\n",
        "  answer = result_sim.get_counts()\n",
        "  return plot_histogram(answer)"
      ],
      "metadata": {
        "id": "MPHJBrELEcvy"
      },
      "execution_count": null,
      "outputs": []
    },
    {
      "cell_type": "markdown",
      "source": [
        "#Exercise 1b\n",
        "\n",
        "Simulate the current circuit by running\n",
        "\n",
        "```python\n",
        "simulate(qc)\n",
        "```"
      ],
      "metadata": {
        "id": "LgfXRaKFLu4c"
      }
    },
    {
      "cell_type": "code",
      "source": [
        "#Answer here"
      ],
      "metadata": {
        "id": "ouCts4jQEg3U"
      },
      "execution_count": null,
      "outputs": []
    },
    {
      "cell_type": "markdown",
      "source": [
        "## -- **Modify the code and apply an X gate on the first qubit and see the results!**"
      ],
      "metadata": {
        "id": "9t5L8LlqFlh4"
      }
    },
    {
      "cell_type": "markdown",
      "source": [
        "#Exercise 2 Another Basic Circuit\n",
        "\n",
        "1. Copy/Paste the code below. \n",
        "2. Run the code to show the circuit.\n",
        "3. Show the results\n",
        "\n",
        "```python\n",
        "# Import the Qiskit SDK\n",
        "from qiskit import QuantumCircuit, ClassicalRegister, QuantumRegister\n",
        "from qiskit import execute, Aer\n",
        "\n",
        "# Create the input Quantum Register with 2 qubits.\n",
        "qin = QuantumRegister(2)\n",
        "\n",
        "# Create a Classical Register with 2 bits that will hold the result of the measurement\n",
        "c = ClassicalRegister(2)\n",
        "\n",
        "# Create the Quantum Circuit\n",
        "qc = QuantumCircuit(qin,c)\n",
        "\n",
        "qc.barrier()  \n",
        "\n",
        "# Measure and draw\n",
        "qc.measure(qin,c)\n",
        "qc.draw(output='mpl')\n",
        "```"
      ],
      "metadata": {
        "id": "A_9IP1_RDThV"
      }
    },
    {
      "cell_type": "code",
      "source": [
        "# Answer here (Circuit Layout ) \n"
      ],
      "metadata": {
        "id": "Ri4Bjvx-aOD8"
      },
      "execution_count": null,
      "outputs": []
    },
    {
      "cell_type": "code",
      "source": [
        "# Answer here (Simulate the Circuit)\n"
      ],
      "metadata": {
        "id": "enhuqO1RIYJl"
      },
      "execution_count": null,
      "outputs": []
    },
    {
      "cell_type": "markdown",
      "source": [
        "# -- **Modify the code to create a circuit with an input register of 3 qubits, an output register of 1 qubit and a classical register of 3 qubits**"
      ],
      "metadata": {
        "id": "Ekq0mnTDIeMp"
      }
    },
    {
      "cell_type": "markdown",
      "source": [
        "#Exercise 3 Hadamard Gate\n",
        "\n",
        "Use the code below to add a Hadmard gate the qubit qin[0].\n",
        "\n",
        "```python\n",
        "qc.h(qin[0])\n",
        "```\n",
        "\n",
        "Draw and simulate the circuit."
      ],
      "metadata": {
        "id": "4DZH0EHh_8VI"
      }
    },
    {
      "cell_type": "markdown",
      "source": [
        "# Add hadamard gate "
      ],
      "metadata": {
        "id": "xPuqT9AUaUaL"
      }
    },
    {
      "cell_type": "code",
      "source": [
        "# Type the answer here.\n",
        "# Import the Qiskit SDK\n",
        "from qiskit import QuantumCircuit, ClassicalRegister, QuantumRegister\n",
        "from qiskit import execute, Aer\n",
        "\n",
        "# Create the input Quantum Register with 1 qubits.\n",
        "qin = QuantumRegister(1)\n",
        "\n",
        "# Create a Classical Register with 1 bits that will hold the result of the measurement\n",
        "c = ClassicalRegister(1)\n",
        "\n",
        "# Create the Quantum Circuit\n",
        "qc = QuantumCircuit(qin,c)\n",
        "\n",
        "qc.barrier()  \n",
        "\n",
        "\n",
        "# Measure and draw\n",
        "qc.measure(qin,c)\n",
        "qc.draw(output='mpl')"
      ],
      "metadata": {
        "id": "cae6YqbWaX1n",
        "outputId": "691137c2-1a2b-4d6f-c15d-10b5f8aae6f7",
        "colab": {
          "base_uri": "https://localhost:8080/",
          "height": 365
        }
      },
      "execution_count": null,
      "outputs": [
        {
          "output_type": "execute_result",
          "data": {
            "text/plain": [
              "<Figure size 354.511x200.667 with 1 Axes>"
            ],
            "image/png": "[encoded data removed]"
          },
          "metadata": {},
          "execution_count": 40
        },
        {
          "output_type": "display_data",
          "data": {
            "text/plain": [
              "<Figure size 354.511x200.667 with 1 Axes>"
            ],
            "image/png": "[encoded data removed]"
          },
          "metadata": {}
        }
      ]
    },
    {
      "cell_type": "code",
      "source": [
        "# Answer (Simulate the circuit)"
      ],
      "metadata": {
        "id": "kZXH4zx9KJg4"
      },
      "execution_count": null,
      "outputs": []
    },
    {
      "cell_type": "markdown",
      "source": [],
      "metadata": {
        "id": "cufpY3SGKYlN"
      }
    },
    {
      "cell_type": "markdown",
      "source": [
        "#Exercise 4 Superposition\n",
        "\n",
        "Create the following circuit:\n",
        "\n",
        "<img src=\"https://github.com/Quantum-Computing-Philippines/QISkit-Beginner-Exercises/blob/bobby/images/2-qubit-hadamard.png?raw=1\">\n",
        "\n"
      ],
      "metadata": {
        "id": "E_1Reb6meLNH"
      }
    },
    {
      "cell_type": "markdown",
      "source": [
        "## -- **Modify the code with 2 input qubits and 2 classical bits. Then apply hadamard gate to all input qubits. Draw and see the results!**"
      ],
      "metadata": {
        "id": "-61ufyFcPZnE"
      }
    },
    {
      "cell_type": "code",
      "source": [
        "#Type your answer here.\n"
      ],
      "metadata": {
        "id": "FpkXkJO6aj2d"
      },
      "execution_count": null,
      "outputs": []
    },
    {
      "cell_type": "markdown",
      "source": [
        "#Exercise 5 Control-NOT Gate (Last Exercise)\n",
        "\n",
        "The Control-NOT Gate is defined by it's action on the qubits:\n",
        "\n",
        "$$C_{ij}|i⟩|j⟩= |i⟩|i⊕j⟩$$\n",
        "\n",
        "where $|i⟩$ is the control qubit, $|j⟩$ is the target qubit and $⊕$ is the exclusive-or defined by\n",
        "\n",
        "|$i$  |$j$ | $$i⊕j$$ |\n",
        "|-|-|-|\n",
        "|0|0|0|\n",
        "|0|1|1|\n",
        "|1|0|1|\n",
        "|1|1|0|\n",
        "\n",
        "\n",
        "\n",
        "In this exercise, you will create a Control-NOT gate and verify the output.\n",
        "\n",
        "Create the following circuit where the Control-NOT is the blue symbol. The filled small circle sits on the control qubit while the filled circle with a + sign sits on the target qubit.\n",
        "\n",
        "<img src=\"https://github.com/Quantum-Computing-Philippines/QISkit-Beginner-Exercises/blob/bobby/images/control_not_gate.png?raw=1\">\n",
        "\n",
        "Simulate the circuit if the input is $q0_0 = |1⟩$ and $q0_1 = |0⟩$"
      ],
      "metadata": {
        "id": "KmJF1KQ9gavE"
      }
    },
    {
      "cell_type": "markdown",
      "source": [
        "#Answer"
      ],
      "metadata": {
        "id": "rp2jxPXqapKD"
      }
    },
    {
      "cell_type": "code",
      "source": [
        "#Type your answer here\n",
        "# Type the answer here.\n",
        "# Import the Qiskit SDK\n",
        "from qiskit import QuantumCircuit, ClassicalRegister, QuantumRegister\n",
        "from qiskit import execute, Aer\n",
        "\n",
        "# Create the input Quantum Register with 1 qubits.\n",
        "qin = QuantumRegister(2)\n",
        "\n",
        "# Create a Classical Register with 1 bits that will hold the result of the measurement\n",
        "c = ClassicalRegister(2)\n",
        "\n",
        "# Create the Quantum Circuit\n",
        "qc = QuantumCircuit(qin,c)\n",
        "\n",
        "qc.barrier()  \n",
        "qc.cx(0,1)\n",
        "\n",
        "# Measure and draw\n",
        "qc.measure(qin,c)\n",
        "qc.draw(output='mpl')"
      ],
      "metadata": {
        "id": "O6ZOaQC8aq4s",
        "outputId": "f6e3480e-86b4-4806-80eb-d7564fab3d34",
        "colab": {
          "base_uri": "https://localhost:8080/",
          "height": 493
        }
      },
      "execution_count": null,
      "outputs": [
        {
          "output_type": "execute_result",
          "data": {
            "text/plain": [
              "<Figure size 612.033x284.278 with 1 Axes>"
            ],
            "image/png": "[encoded data removed]"
          },
          "metadata": {},
          "execution_count": 42
        },
        {
          "output_type": "display_data",
          "data": {
            "text/plain": [
              "<Figure size 612.033x284.278 with 1 Axes>"
            ],
            "image/png": "[encoded data removed]"
          },
          "metadata": {}
        }
      ]
    },
    {
      "cell_type": "code",
      "source": [
        "# Answer here (simulate)\n",
        "simulate(qc)"
      ],
      "metadata": {
        "id": "ZojAVw5BNtqe",
        "outputId": "8b1849de-afa9-41ab-a26b-65a98b424d22",
        "colab": {
          "base_uri": "https://localhost:8080/",
          "height": 1000
        }
      },
      "execution_count": null,
      "outputs": [
        {
          "output_type": "stream",
          "name": "stderr",
          "text": [
            "/usr/local/lib/python3.9/dist-packages/qiskit/visualization/counts_visualization.py:187: MatplotlibDeprecationWarning: The label function was deprecated in Matplotlib 3.1 and will be removed in 3.8. Use Tick.label1 instead.\n",
            "  tick.label.set_fontsize(14)\n",
            "/usr/local/lib/python3.9/dist-packages/qiskit/visualization/counts_visualization.py:187: MatplotlibDeprecationWarning: The label function was deprecated in Matplotlib 3.1 and will be removed in 3.8. Use Tick.label1 instead.\n",
            "  tick.label.set_fontsize(14)\n",
            "/usr/local/lib/python3.9/dist-packages/qiskit/visualization/counts_visualization.py:187: MatplotlibDeprecationWarning: The label function was deprecated in Matplotlib 3.1 and will be removed in 3.8. Use Tick.label1 instead.\n",
            "  tick.label.set_fontsize(14)\n",
            "/usr/local/lib/python3.9/dist-packages/qiskit/visualization/counts_visualization.py:187: MatplotlibDeprecationWarning: The label function was deprecated in Matplotlib 3.1 and will be removed in 3.8. Use Tick.label1 instead.\n",
            "  tick.label.set_fontsize(14)\n",
            "/usr/local/lib/python3.9/dist-packages/qiskit/visualization/counts_visualization.py:187: MatplotlibDeprecationWarning: The label function was deprecated in Matplotlib 3.1 and will be removed in 3.8. Use Tick.label1 instead.\n",
            "  tick.label.set_fontsize(14)\n",
            "/usr/local/lib/python3.9/dist-packages/qiskit/visualization/counts_visualization.py:187: MatplotlibDeprecationWarning: The label function was deprecated in Matplotlib 3.1 and will be removed in 3.8. Use Tick.label1 instead.\n",
            "  tick.label.set_fontsize(14)\n"
          ]
        },
        {
          "output_type": "execute_result",
          "data": {
            "text/plain": [
              "<Figure size 700x500 with 1 Axes>"
            ],
            "image/png": "[encoded data removed]"
          },
          "metadata": {},
          "execution_count": 43
        },
        {
          "output_type": "display_data",
          "data": {
            "text/plain": [
              "<Figure size 700x500 with 1 Axes>"
            ],
            "image/png": "[encoded data removed]"
          },
          "metadata": {}
        }
      ]
    },
    {
      "cell_type": "markdown",
      "source": [
        "# **That's the end of the exercises! Thank you! P.S. (There are more below) 😃** "
      ],
      "metadata": {
        "id": "hQy5OiLWOR_f"
      }
    },
    {
      "cell_type": "code",
      "source": [],
      "metadata": {
        "id": "e-djK_6oPnMY"
      },
      "execution_count": null,
      "outputs": []
    },
    {
      "cell_type": "code",
      "source": [],
      "metadata": {
        "id": "zeJ1gCSnPnJv"
      },
      "execution_count": null,
      "outputs": []
    },
    {
      "cell_type": "code",
      "source": [],
      "metadata": {
        "id": "DWyBZ1fBPnGx"
      },
      "execution_count": null,
      "outputs": []
    },
    {
      "cell_type": "code",
      "source": [],
      "metadata": {
        "id": "FTF95ob9PnEN"
      },
      "execution_count": null,
      "outputs": []
    },
    {
      "cell_type": "code",
      "source": [],
      "metadata": {
        "id": "VuLaVAtAPnAb"
      },
      "execution_count": null,
      "outputs": []
    },
    {
      "cell_type": "code",
      "source": [],
      "metadata": {
        "id": "VTsgqAIQPm9d"
      },
      "execution_count": null,
      "outputs": []
    },
    {
      "cell_type": "code",
      "source": [],
      "metadata": {
        "id": "YhOEriNSPmuv"
      },
      "execution_count": null,
      "outputs": []
    },
    {
      "cell_type": "code",
      "source": [],
      "metadata": {
        "id": "mojqF0NtOe4h"
      },
      "execution_count": null,
      "outputs": []
    },
    {
      "cell_type": "markdown",
      "source": [
        "#Exercise 6 Bernstein-Vazirani Example Black-Box Circuit\n",
        "\n",
        "Implement the circuit below as code: \n",
        "\n",
        "<img src=\"https://github.com/Quantum-Computing-Philippines/QISkit-Beginner-Exercises/blob/bobby/images/bv_black_box_images.png?raw=1\">\n",
        "\n",
        "Hint:\n",
        "- Use the Control-Not Gate\n",
        "\n",
        "```python\n",
        "qc.cnot(control, target)\n",
        "```"
      ],
      "metadata": {
        "id": "Ir6VTyDWBHGL"
      }
    },
    {
      "cell_type": "markdown",
      "source": [
        "#Answer"
      ],
      "metadata": {
        "id": "eCLdea_CauBB"
      }
    },
    {
      "cell_type": "code",
      "source": [
        "#Type your answer here"
      ],
      "metadata": {
        "id": "f34F-_gmaw3A"
      },
      "execution_count": null,
      "outputs": []
    },
    {
      "cell_type": "markdown",
      "source": [
        "#Exercise 7 Bernstein-Vazirani Example Black-Box Circuit Verification\n",
        "\n",
        "Show that this circuit implements the function\n",
        "\n",
        "$$f(x) = x\\cdot a = x_0 \\cdot a_0 \\oplus x_1 \\cdot a_1 \\oplus \\ldots \\oplus x_{n-1} \\cdot a_{n-1} $$\n",
        "\n",
        "where $a=101_2$\n",
        "\n",
        "That is, verify that the following are true:\n",
        "\n",
        "$$\\begin{align*}\n",
        "f(001) &= 1\\\\\n",
        "f(010) &= 0\\\\\n",
        "f(011) &= 1\n",
        "\\end{align*}$$\n"
      ],
      "metadata": {
        "id": "cTSjzIvmFSoQ"
      }
    },
    {
      "cell_type": "markdown",
      "source": [
        "#Answer"
      ],
      "metadata": {
        "id": "7pl2dWOha6EV"
      }
    },
    {
      "cell_type": "code",
      "source": [
        "#Type your answer here"
      ],
      "metadata": {
        "id": "s6Ya9aPva8RU"
      },
      "execution_count": null,
      "outputs": []
    },
    {
      "cell_type": "markdown",
      "source": [
        "#Exercise 8 Bernstein-Vazirani Problem\n",
        "\n",
        "Implement the following circuit:\n",
        "\n",
        "<img src=\"https://github.com/Quantum-Computing-Philippines/QISkit-Beginner-Exercises/blob/bobby/images/bv_circuit.png?raw=1\">\n",
        "\n",
        "What is the value of the classical bits after simulation?"
      ],
      "metadata": {
        "id": "IFfEIU9tH1aR"
      }
    },
    {
      "cell_type": "markdown",
      "source": [
        "#Answer"
      ],
      "metadata": {
        "id": "mwmbiJdVa-_9"
      }
    },
    {
      "cell_type": "code",
      "source": [
        "#Type your answer here"
      ],
      "metadata": {
        "id": "EwxAAU2MbBLV"
      },
      "execution_count": null,
      "outputs": []
    },
    {
      "cell_type": "markdown",
      "source": [
        "#Exercise 9 Full Adder Circuit\n",
        "\n",
        "\n",
        "Below is the circuit for full-adder using 1 qubit. The $a_0$ and $b_0$ refer to the input qubits, the $C_{i0}$ refer to the input carry bit from the addition of the lesser significant bit. The $s_0$ refer to the sum of the 2 bits. The $C_{o0}$ refer to the carry bit of the current addition operation and will be input to the addtion of the next significant bit. \n",
        "\n",
        "<img src=\"https://github.com/Quantum-Computing-Philippines/QISkit-Beginner-Exercises/blob/bobby/images/fulladder_1.png?raw=1\" width=\"50%\">\n",
        "\n",
        "Since there are two bits we need to add, we need two of these circuits stringed together as shown below:\n",
        "\n",
        "<img src=\"https://github.com/Quantum-Computing-Philippines/QISkit-Beginner-Exercises/blob/bobby/images/fulladder_2.png?raw=1\" width=\"50%\">\n",
        "\n",
        "##Translating to a Quantum Circuit\n",
        "\n",
        "Using the circuit diagram above, we can translate it to a quantum circuit by using the following rules:\n",
        "\n",
        "1. For each input bit in the XOR gate, create a CNOT gate such that the input of the CNOT gate is the input bit and the target is the output of the XOR gate:\n",
        "\n",
        "<img src=\"https://github.com/Quantum-Computing-Philippines/QISkit-Beginner-Exercises/blob/bobby/images/fulladder_xor.png?raw=1\" width=\"50%\">\n",
        "\n",
        "2.  For each AND gate, create a Control-Control-NOT gate (also known as Toffoli gate) such that the input bits of the Control-Control-NOT gate is the input bits of the AND gate and the target bit is the output bit of the AND gate.\n",
        "\n",
        "<img src=\"https://github.com/Quantum-Computing-Philippines/QISkit-Beginner-Exercises/blob/bobby/images/fulladder_and.png?raw=1\" width=\"50%\">\n",
        "\n",
        "To add the Control-Control-NOT gate into your cicuit, you can pattern it from the following code:\n",
        "\n",
        "```python\n",
        "qc.ccx(control1, control2, target)\n",
        "```\n",
        "\n",
        "It should look like this:\n",
        "\n",
        "<img src=\"https://github.com/Quantum-Computing-Philippines/QISkit-Beginner-Exercises/blob/bobby/images/ccx_gate.png?raw=1\">\n",
        "\n",
        "Using the 2 rules above, translate the full-adder circuit to a quantum circuit."
      ],
      "metadata": {
        "id": "i7VAYu-Yl8km"
      }
    },
    {
      "cell_type": "markdown",
      "source": [
        "#Answer"
      ],
      "metadata": {
        "id": "wzs0A_vfbEfS"
      }
    },
    {
      "cell_type": "code",
      "source": [
        "#Type your answer here"
      ],
      "metadata": {
        "id": "uHVZAyhvbGPb"
      },
      "execution_count": null,
      "outputs": []
    },
    {
      "cell_type": "markdown",
      "source": [
        "#Exercise 10\n",
        "\n",
        "Simulate the circuit you built in Exercise 7. The result will look like this:\n",
        "\n",
        "<img src=\"https://github.com/Quantum-Computing-Philippines/QISkit-Beginner-Exercises/blob/bobby/images/fulladder_simulation.png?raw=1\">\n"
      ],
      "metadata": {
        "id": "uULQ8jeWoHsc"
      }
    },
    {
      "cell_type": "markdown",
      "source": [
        "#Answer"
      ],
      "metadata": {
        "id": "KH92ypiAbKa8"
      }
    },
    {
      "cell_type": "code",
      "source": [
        "#Type your answer here"
      ],
      "metadata": {
        "id": "tapKvm0cbMzI"
      },
      "execution_count": null,
      "outputs": []
    },
    {
      "cell_type": "markdown",
      "source": [
        "#Exercise 11\n",
        "\n",
        "Give the action of the Hadamard Gate on the qubits:\n",
        "\n",
        "$$H|0\\rangle = \\displaystyle \\frac{|0\\rangle + |1\\rangle}{\\sqrt{2}}$$\n",
        "\n",
        "and \n",
        "\n",
        "$$H|1\\rangle = \\displaystyle \\frac{|0\\rangle - |1\\rangle}{\\sqrt{2}}$$\n",
        "\n",
        "Let $|x⟩$ be either $|0⟩$ or $|1\\rangle$. Show that the Hadamard transform's action on $|x\\rangle$ can also be written as \n",
        "\n",
        "$$H|x\\rangle = \\displaystyle \\frac{|0\\rangle + (-1)^x|1\\rangle}{\\sqrt{2}}$$\n"
      ],
      "metadata": {
        "id": "tvOan5XDSCQQ"
      }
    },
    {
      "cell_type": "markdown",
      "source": [
        "#Answer\n",
        "\n",
        "Edit to type your answer. You can use $\\LaTeX$ or just post a picture of your solution."
      ],
      "metadata": {
        "id": "RcdqxGuPbP_1"
      }
    },
    {
      "cell_type": "markdown",
      "source": [
        "#Exercise 12\n",
        "\n",
        "Give the action of the Hadamard Gate on the qubits:\n",
        "\n",
        "$$H|0\\rangle = \\displaystyle \\frac{|0\\rangle + |1\\rangle}{\\sqrt{2}}$$\n",
        "\n",
        "and \n",
        "\n",
        "$$H|1\\rangle = \\displaystyle \\frac{|0\\rangle - |1\\rangle}{\\sqrt{2}}$$\n",
        "\n",
        "Show that \n",
        "\n",
        "$$H^2|0\\rangle = |0\\rangle$$\n",
        "\n",
        "and\n",
        "\n",
        "$$H^2|1\\rangle = |1\\rangle$$\n",
        "\n",
        "Therefore, $H^2$ is the identity operator on the qubits $|0\\rangle$ and $|1\\rangle$. "
      ],
      "metadata": {
        "id": "jgYL7QPQVpnj"
      }
    },
    {
      "cell_type": "markdown",
      "source": [
        "#Answer\n",
        "\n",
        "Edit to type your answer. You can use $\\LaTeX$ or just post a picture of your solution."
      ],
      "metadata": {
        "id": "84HVEykrbeps"
      }
    }
  ]
}