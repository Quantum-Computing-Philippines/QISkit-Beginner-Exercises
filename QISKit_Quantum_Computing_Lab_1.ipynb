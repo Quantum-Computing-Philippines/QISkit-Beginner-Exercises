{
  "nbformat": 4,
  "nbformat_minor": 0,
  "metadata": {
    "colab": {
      "provenance": [],
      "collapsed_sections": []
    },
    "kernelspec": {
      "name": "python3",
      "display_name": "Python 3"
    },
    "language_info": {
      "name": "python"
    }
  },
  "cells": [
    {
      "cell_type": "markdown",
      "source": [
        "\n",
        "\n",
        "### Quantum Logic Gates\n",
        "\n",
        "A Quantum Logic Gate are the building blocks of Quantum Circuits, like classical logic gates are for conventional digital circuits\n",
        "\n",
        "\n",
        "|Name|Functions|Examples|\n",
        "|--|--|--|\n",
        "|X (NOT Gate)|x()|qc.x(0)\n",
        "|Hadamard|h()|qc.h(2)\n",
        "|CX Gate (CNOT Gate)|cx()|qc.cx(q[0],q[1])\n",
        "|CCX Gate (CNOT Gate)|ccx()|qc.ccx(q[0],q[1],q[2])\n",
        "\n",
        "\n",
        "\n",
        "\n"
      ],
      "metadata": {
        "id": "5qNxQyAfH9fS"
      }
    },
    {
      "cell_type": "code",
      "source": [],
      "metadata": {
        "id": "0A4ed42sOWpl"
      },
      "execution_count": null,
      "outputs": []
    },
    {
      "cell_type": "markdown",
      "source": [
        "#Exercise 0\n",
        "\n",
        "Run the code below to install the required libraries."
      ],
      "metadata": {
        "id": "IVulPuiRUyZZ"
      }
    },
    {
      "cell_type": "code",
      "execution_count": null,
      "metadata": {
        "id": "8nmqSfX3oohJ"
      },
      "outputs": [],
      "source": [
        "!pip install ipywidgets pylatexenc qiskit==0.16.1"
      ]
    },
    {
      "cell_type": "markdown",
      "source": [
        "#Exercise 1\n",
        "\n",
        "1. Copy/Paste the code below. \n",
        "2. Run the code to show the circuit.\n",
        "3. Modify the code to create a circuit with an input register of 3 qubits, an output register of 1 qubit and a classical register of 3 qubits\n",
        "\n",
        "```python\n",
        "# Import the Qiskit SDK\n",
        "from qiskit import QuantumCircuit, ClassicalRegister, QuantumRegister\n",
        "from qiskit import execute, Aer\n",
        "\n",
        "# Create the input Quantum Register with 2 qubits.\n",
        "qin = QuantumRegister(2)\n",
        "\n",
        "# Create a Classical Register with 2 bits that will hold the result of the measurement\n",
        "c = ClassicalRegister(2)\n",
        "\n",
        "# Create the Quantum Circuit\n",
        "qc = QuantumCircuit(qin,c)\n",
        "\n",
        "qc.barrier()  \n",
        "\n",
        "# Measure and draw\n",
        "qc.measure(qin,c)\n",
        "qc.draw(output='mpl')\n",
        "```"
      ],
      "metadata": {
        "id": "5A0qpVfN87s9"
      }
    },
    {
      "cell_type": "markdown",
      "source": [
        "#Exercise 2\n",
        "\n",
        "Add the following code to simulate the circuit:\n",
        "\n",
        "```python\n",
        "def simulate(qc=qc):\n",
        "  from qiskit.tools.visualization import plot_histogram\n",
        "  backend_sim = Aer.get_backend('qasm_simulator')\n",
        "  shots = 1000\n",
        "\n",
        "  job_sim = execute(qc, backend=backend_sim, shots=shots)\n",
        "  result_sim = job_sim.result()\n",
        "  answer = result_sim.get_counts()\n",
        "  return plot_histogram(answer)\n",
        "```"
      ],
      "metadata": {
        "id": "jjdoj0tC_MxA"
      }
    },
    {
      "cell_type": "markdown",
      "source": [
        "#Exercise 2.1\n",
        "\n",
        "Simulate the current circuit by running\n",
        "\n",
        "```python\n",
        "simulate(qc)\n",
        "```"
      ],
      "metadata": {
        "id": "LgfXRaKFLu4c"
      }
    },
    {
      "cell_type": "markdown",
      "source": [
        "#Exercise 3\n",
        "\n",
        "Using the code below to add a Hadmard gate the the qubit qin[0].\n",
        "\n",
        "```python\n",
        "qc.h(qin[0])\n",
        "```"
      ],
      "metadata": {
        "id": "4DZH0EHh_8VI"
      }
    },
    {
      "cell_type": "markdown",
      "source": [
        "#Exercise 4\n",
        "\n",
        "Implement the circuit below as code: \n",
        "\n",
        "<img src=\"https://github.com/Quantum-Computing-Philippines/QISkit-Beginner-Exercises/blob/bobby/images/bv_black_box_images.png?raw=1\">\n",
        "\n",
        "Hint:\n",
        "- Use the Control-Not Gate\n",
        "\n",
        "```python\n",
        "qc.cnot(control, target)\n",
        "```"
      ],
      "metadata": {
        "id": "Ir6VTyDWBHGL"
      }
    },
    {
      "cell_type": "markdown",
      "source": [
        "#Exercise 5\n",
        "\n",
        "Show that this circuit implements the function\n",
        "\n",
        "$f(x) = x\\cdot a = x_0 \\cdot a_0 \\oplus x_1 \\cdot a_1 \\oplus \\ldots \\oplus x_{n-1} \\cdot a_{n-1} $\n",
        "\n",
        "where $a=101_2$\n",
        "\n",
        "That is, verify that the following are true:\n",
        "\n",
        "$\\begin{align}\n",
        "f(001) &= 1\\\\\n",
        "f(010) &= 0\\\\\n",
        "f(011) &= 1\n",
        "\\end{align}$\n"
      ],
      "metadata": {
        "id": "cTSjzIvmFSoQ"
      }
    },
    {
      "cell_type": "markdown",
      "source": [
        "#Exercise 6\n",
        "\n",
        "Implement the following circuit:\n",
        "\n",
        "<img src=\"https://github.com/Quantum-Computing-Philippines/QISkit-Beginner-Exercises/blob/bobby/images/bv_circuit.png?raw=1\">\n",
        "\n",
        "What is the value of the classical bits after simulation?"
      ],
      "metadata": {
        "id": "IFfEIU9tH1aR"
      }
    },
    {
      "cell_type": "markdown",
      "source": [
        "#Exercise 7\n",
        "\n",
        "\n",
        "Below is the circuit for full-adder using 1 qubit. The $a_0$ and $b_0$ refer to the input qubits, the $C_{i0}$ refer to the input carry bit from the addition of the lesser significant bit. The $s_0$ refer to the sum of the 2 bits. The $C_{o0}$ refer to the carry bit of the current addition operation and will be input to the addtion of the next significant bit. \n",
        "\n",
        "<img src=\"https://github.com/Quantum-Computing-Philippines/QISkit-Beginner-Exercises/blob/bobby/images/fulladder_1.png?raw=1\">\n",
        "\n",
        "Since there are two bits we need to add, we need two of these circuits stringed together as shown below:\n",
        "\n",
        "<img src=\"https://github.com/Quantum-Computing-Philippines/QISkit-Beginner-Exercises/blob/bobby/images/fulladder_2.png?raw=1\">\n",
        "\n",
        "##Translating to a Quantum Circuit\n",
        "\n",
        "Using the circuit diagram above, we can translate it to a quantum circuit by using the following rules:\n",
        "\n",
        "1. For each input bit in the XOR gate, create a CNOT gate such that the input of the CNOT gate is the input bit and the target is the output of the XOR gate:\n",
        "\n",
        "<img src=\"https://github.com/Quantum-Computing-Philippines/QISkit-Beginner-Exercises/blob/bobby/images/fulladder_xor.png?raw=1\">\n",
        "\n",
        "2.  For each AND gate, create a Control-Control-NOT gate (also known as Toffoli gate) such that the input bits of the Control-Control-NOT gate is the input bits of the AND gate and the target bit is the output bit of the AND gate.\n",
        "\n",
        "<img src=\"https://github.com/Quantum-Computing-Philippines/QISkit-Beginner-Exercises/blob/bobby/images/fulladder_and.png?raw=1\">\n",
        "\n",
        "Using the 2 rules above, translate the full-adder circuit to a quantum circuit."
      ],
      "metadata": {
        "id": "i7VAYu-Yl8km"
      }
    },
    {
      "cell_type": "markdown",
      "source": [
        "#Exercise 8\n",
        "\n",
        "Simulate the circuit you built in Exercise 7. The result will look like this:\n",
        "\n",
        "<img src=\"https://github.com/Quantum-Computing-Philippines/QISkit-Beginner-Exercises/blob/bobby/images/fulladder_simulation.png?raw=1\">\n"
      ],
      "metadata": {
        "id": "uULQ8jeWoHsc"
      }
    }
  ]
}